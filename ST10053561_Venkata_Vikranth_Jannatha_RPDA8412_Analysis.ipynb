{
 "cells": [
  {
   "cell_type": "code",
   "execution_count": 2,
   "id": "f132075b",
   "metadata": {},
   "outputs": [],
   "source": [
    "import pandas as pd\n",
    "import numpy as np"
   ]
  },
  {
   "cell_type": "code",
   "execution_count": 4,
   "id": "88c26441",
   "metadata": {},
   "outputs": [],
   "source": [
    "long_trails = pd.read_csv('long_trails.csv')\n",
    "short_trails = pd.read_csv('short_trails.csv')"
   ]
  },
  {
   "cell_type": "code",
   "execution_count": null,
   "id": "95e0a9eb",
   "metadata": {},
   "outputs": [],
   "source": [
    "long_trails."
   ]
  }
 ],
 "metadata": {
  "kernelspec": {
   "display_name": "base",
   "language": "python",
   "name": "python3"
  },
  "language_info": {
   "codemirror_mode": {
    "name": "ipython",
    "version": 3
   },
   "file_extension": ".py",
   "mimetype": "text/x-python",
   "name": "python",
   "nbconvert_exporter": "python",
   "pygments_lexer": "ipython3",
   "version": "3.13.5"
  }
 },
 "nbformat": 4,
 "nbformat_minor": 5
}
